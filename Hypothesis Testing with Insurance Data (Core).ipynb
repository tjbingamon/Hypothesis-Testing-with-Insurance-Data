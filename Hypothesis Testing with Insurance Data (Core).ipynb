{
 "cells": [
  {
   "cell_type": "markdown",
   "id": "80a0c8a8",
   "metadata": {},
   "source": [
    "# For this assignment, we will be working with the US Health Insurance Dataset from Kaggle.\n",
    "\n",
    "We have been asked to use our hypothesis testing skills to answer the following questions:\n",
    "\n",
    "- 1. Do smokers have higher insurance charges than non-smokers?\n",
    "- 2. Are men more likely to smoke than women?\n",
    "- 3. Do different regions have different charges, on average?\n",
    "\n",
    "\n",
    "\n",
    "For each question, make sure to:\n",
    "\n",
    "1. State your Null Hypothesis and Alternative Hypothesis\n",
    "2. Select the correct test according to the data type and number of samples\n",
    "3. Test the assumptions of your selected test.\n",
    "4. Execute the selected test, or the alternative test (if you do not meet the assumptions)\n",
    "5. Interpret your p-value and reject or fail to reject your null hypothesis \n",
    "6. Show a supporting visualization that helps display the result"
   ]
  },
  {
   "cell_type": "markdown",
   "id": "4cecff0c",
   "metadata": {},
   "source": [
    "# Import Libraries"
   ]
  },
  {
   "cell_type": "code",
   "execution_count": 3,
   "id": "55689714",
   "metadata": {},
   "outputs": [],
   "source": [
    "import pandas as pd\n",
    "import numpy as np\n",
    "\n",
    "import matplotlib as mpl\n",
    "import matplotlib.pyplot as plt\n",
    "import seaborn as sns\n",
    "from scipy import stats"
   ]
  },
  {
   "cell_type": "markdown",
   "id": "44859ecc",
   "metadata": {},
   "source": [
    "# Load Data"
   ]
  },
  {
   "cell_type": "code",
   "execution_count": 4,
   "id": "1924c381",
   "metadata": {},
   "outputs": [
    {
     "name": "stdout",
     "output_type": "stream",
     "text": [
      "<class 'pandas.core.frame.DataFrame'>\n",
      "RangeIndex: 1338 entries, 0 to 1337\n",
      "Data columns (total 7 columns):\n",
      " #   Column    Non-Null Count  Dtype  \n",
      "---  ------    --------------  -----  \n",
      " 0   age       1338 non-null   int64  \n",
      " 1   sex       1338 non-null   object \n",
      " 2   bmi       1338 non-null   float64\n",
      " 3   children  1338 non-null   int64  \n",
      " 4   smoker    1338 non-null   object \n",
      " 5   region    1338 non-null   object \n",
      " 6   charges   1338 non-null   float64\n",
      "dtypes: float64(2), int64(2), object(3)\n",
      "memory usage: 73.3+ KB\n"
     ]
    }
   ],
   "source": [
    "df = pd.read_csv(\"Data/insurance - insurance.csv\")\n",
    "\n",
    "# display info\n",
    "df.info()"
   ]
  },
  {
   "cell_type": "markdown",
   "id": "9c07d4ac",
   "metadata": {},
   "source": [
    "#  1. Do smokers have higher insurance charges than non-smokers?"
   ]
  },
  {
   "cell_type": "markdown",
   "id": "c9da07df",
   "metadata": {},
   "source": [
    "## 1. State Null Hypothesis and Alternative Hypothesis"
   ]
  },
  {
   "cell_type": "markdown",
   "id": "51c64999",
   "metadata": {},
   "source": [
    "**Null Hypothesis**: There is no difference in the insurance charges between smokers and non-smokers.\n",
    "\n",
    "**Alternative Hypothesis**: There is a difference in the insurance charges between smokers and non-smokers. \n",
    "\n",
    "(Smokers have higher insurance charges than non-smokers.)"
   ]
  },
  {
   "cell_type": "markdown",
   "id": "8042dc81",
   "metadata": {},
   "source": [
    "## 2. Select correct test according to the data type and number of samples"
   ]
  },
  {
   "cell_type": "code",
   "execution_count": 6,
   "id": "9c2961d9",
   "metadata": {},
   "outputs": [
    {
     "data": {
      "text/plain": [
       "no     1064\n",
       "yes     274\n",
       "Name: smoker, dtype: int64"
      ]
     },
     "execution_count": 6,
     "metadata": {},
     "output_type": "execute_result"
    }
   ],
   "source": [
    "df['smoker'].value_counts()"
   ]
  },
  {
   "cell_type": "markdown",
   "id": "f507a7b8",
   "metadata": {},
   "source": [
    "**Test Type**: 2-sample Independent T-Test\n",
    "\n",
    "- T-Test because it is numerical\n",
    "- Independent because different participants are in each group (smokers vs non-smokers)\n",
    "- Number of samples > 15 for each group"
   ]
  },
  {
   "cell_type": "markdown",
   "id": "ae88ff06",
   "metadata": {},
   "source": [
    "## 3. Test the assumptions of your selected test\n",
    "\n",
    "\n",
    "T-Test Assumptions:\n",
    "\n",
    "- No significant outliers\n",
    "- Normality \n",
    "- Equal Variance "
   ]
  },
  {
   "cell_type": "code",
   "execution_count": 7,
   "id": "da8f8f0f",
   "metadata": {},
   "outputs": [
    {
     "name": "stdout",
     "output_type": "stream",
     "text": [
      "For Smoker (n=274): Mean=32050.23\n",
      "For Non-Smoker (n=1064): Mean=8434.27\n"
     ]
    }
   ],
   "source": [
    "smoker_insurance = df.loc[df['smoker']=='yes',\"charges\"]\n",
    "nonsmoker_insurance = df.loc[ df['smoker']=='no',\"charges\"]\n",
    "\n",
    "# Print average charge for each group\n",
    "print(f\"For Smoker (n={len(smoker_insurance)}): Mean={np.mean(smoker_insurance):.2f}\")\n",
    "print(f\"For Non-Smoker (n={len(nonsmoker_insurance)}): Mean={np.mean(nonsmoker_insurance):.2f}\")"
   ]
  },
  {
   "cell_type": "markdown",
   "id": "07d3d3fe",
   "metadata": {},
   "source": [
    "### Check Outliers"
   ]
  },
  {
   "cell_type": "code",
   "execution_count": 8,
   "id": "9fd5d337",
   "metadata": {},
   "outputs": [
    {
     "data": {
      "text/plain": [
       "0"
      ]
     },
     "execution_count": 8,
     "metadata": {},
     "output_type": "execute_result"
    }
   ],
   "source": [
    "#check for outliers in insurance charges in the Smoker group\n",
    "zscores_f = stats.zscore(smoker_insurance)\n",
    "outliers_f = abs(zscores_f)>3\n",
    "np.sum(outliers_f)"
   ]
  },
  {
   "cell_type": "code",
   "execution_count": 9,
   "id": "3e89ab95",
   "metadata": {},
   "outputs": [
    {
     "data": {
      "text/plain": [
       "24"
      ]
     },
     "execution_count": 9,
     "metadata": {},
     "output_type": "execute_result"
    }
   ],
   "source": [
    "#check for outliers in insurance charges in the Non-Smoker group\n",
    "zscores_f = stats.zscore(nonsmoker_insurance)\n",
    "outliers_f = abs(zscores_f)>3\n",
    "np.sum(outliers_f)"
   ]
  },
  {
   "cell_type": "markdown",
   "id": "c3657aaf",
   "metadata": {},
   "source": [
    "### Remove Outliers\n",
    "\n",
    "- we have 24 outliers in the non-smoker group"
   ]
  },
  {
   "cell_type": "code",
   "execution_count": 10,
   "id": "d7345396",
   "metadata": {},
   "outputs": [],
   "source": [
    "# remove outliers \n",
    "nonsmoker_insurance = nonsmoker_insurance[(np.abs(stats.zscore(nonsmoker_insurance)) < 3)]"
   ]
  },
  {
   "cell_type": "markdown",
   "id": "8ae56c41",
   "metadata": {},
   "source": [
    "### Test for Normality"
   ]
  },
  {
   "cell_type": "code",
   "execution_count": 12,
   "id": "aac8146a",
   "metadata": {},
   "outputs": [
    {
     "data": {
      "text/plain": [
       "NormaltestResult(statistic=61.03941356533816, pvalue=5.564930630036463e-14)"
      ]
     },
     "execution_count": 12,
     "metadata": {},
     "output_type": "execute_result"
    }
   ],
   "source": [
    "# normal test: smokers\n",
    "results_smoker = stats.normaltest(smoker_insurance)\n",
    "results_smoker"
   ]
  },
  {
   "cell_type": "markdown",
   "id": "4fbb1783",
   "metadata": {},
   "source": [
    "- The p-value is less than 0.05, but, the sample size is greater than 15, so we can continue."
   ]
  },
  {
   "cell_type": "code",
   "execution_count": 13,
   "id": "6018042c",
   "metadata": {},
   "outputs": [
    {
     "data": {
      "text/plain": [
       "NormaltestResult(statistic=163.80367047789198, pvalue=2.6945416315543976e-36)"
      ]
     },
     "execution_count": 13,
     "metadata": {},
     "output_type": "execute_result"
    }
   ],
   "source": [
    "# normal test: non-smokers\n",
    "results_nonsmoker = stats.normaltest(nonsmoker_insurance)\n",
    "results_nonsmoker"
   ]
  },
  {
   "cell_type": "markdown",
   "id": "21305ee3",
   "metadata": {},
   "source": [
    "- Both groups have a p-value of less than 0.05, however, since the sample size for each group is more than 15, we can continue."
   ]
  },
  {
   "cell_type": "markdown",
   "id": "e69f5c2b",
   "metadata": {},
   "source": [
    "### Test for Equal Variance"
   ]
  },
  {
   "cell_type": "code",
   "execution_count": 14,
   "id": "775a63dc",
   "metadata": {},
   "outputs": [
    {
     "data": {
      "text/plain": [
       "LeveneResult(statistic=520.7468821724297, pvalue=2.4247238784347824e-97)"
      ]
     },
     "execution_count": 14,
     "metadata": {},
     "output_type": "execute_result"
    }
   ],
   "source": [
    "result = stats.levene(smoker_insurance, nonsmoker_insurance)\n",
    "result"
   ]
  },
  {
   "cell_type": "markdown",
   "id": "33e50c00",
   "metadata": {},
   "source": [
    "- Since the p-value is less than 0.05, we do not have equal variance. \n",
    "\n",
    "- We will need to include \"equal_var = False\" when we perform our t-test."
   ]
  },
  {
   "cell_type": "markdown",
   "id": "6e263d54",
   "metadata": {},
   "source": [
    "## 4. Execute the selected test, or the alternative test (if you do not meet the assumptions)"
   ]
  },
  {
   "cell_type": "code",
   "execution_count": 15,
   "id": "4beeccda",
   "metadata": {},
   "outputs": [
    {
     "data": {
      "text/plain": [
       "Ttest_indResult(statistic=33.732305987092516, pvalue=2.575322662587431e-104)"
      ]
     },
     "execution_count": 15,
     "metadata": {},
     "output_type": "execute_result"
    }
   ],
   "source": [
    "# Independent t-test with equal_var set to False\n",
    "result = stats.ttest_ind(smoker_insurance, nonsmoker_insurance, equal_var = False)\n",
    "result"
   ]
  },
  {
   "cell_type": "markdown",
   "id": "5e063e1e",
   "metadata": {},
   "source": [
    "## 5. Interpret your p-value and reject or fail to reject your null hypothesis "
   ]
  },
  {
   "cell_type": "markdown",
   "id": "495548b1",
   "metadata": {},
   "source": [
    "- The p-value < alpha (0.05), so we reject the null hypothesis and accept that there is a significant difference in the insurance charges between smokers and non-smokers."
   ]
  },
  {
   "cell_type": "markdown",
   "id": "837b9f10",
   "metadata": {},
   "source": [
    "## 6. Show visualization that displays the result"
   ]
  },
  {
   "cell_type": "code",
   "execution_count": 17,
   "id": "eab199ea",
   "metadata": {},
   "outputs": [
    {
     "data": {
      "image/png": "[encoded data removed]",
      "text/plain": [
       "<Figure size 1200x600 with 1 Axes>"
      ]
     },
     "metadata": {},
     "output_type": "display_data"
    }
   ],
   "source": [
    "#calculate the statistical values\n",
    "smoker_mean = smoker_insurance.mean()\n",
    "nonsmoker_mean = nonsmoker_insurance.mean()\n",
    "\n",
    "# base plot\n",
    "ax = sns.histplot(data=df, x='charges', hue='smoker')\n",
    "\n",
    "# Add a line for the mean (red) of smoker insurance charges\n",
    "ax.axvline(smoker_mean, color = 'green',label=f'Smoker Mean = {smoker_mean:,.2f}')\n",
    "# Add a line for the mean (green) of non-smoker insurance charges\n",
    "ax.axvline(nonsmoker_mean, color = 'blue', label = f'Non-Smoker Mean = {nonsmoker_mean:,.2f}')\n",
    "\n",
    "# Add title to the plot\n",
    "ax.set_title('Insurance Charges by Smoker & Non-Smoker')\n",
    "\n",
    "# Add legend to the plot\n",
    "ax.legend();"
   ]
  },
  {
   "cell_type": "markdown",
   "id": "4bdb8fed",
   "metadata": {},
   "source": [
    "# 2. Are men more likely to smoke than women?"
   ]
  },
  {
   "cell_type": "markdown",
   "id": "53fa0641",
   "metadata": {},
   "source": [
    "## 1. State your Null Hypothesis and Alternative Hypothesis\n",
    "\n",
    "**Null Hypothesis**: There is no difference in the likelihood of smoking between men and women.\n",
    "\n",
    "**Alternative Hypothesis**: Sex influences the likelihood of smoking. (Men are more likely to smoke than women.)"
   ]
  },
  {
   "cell_type": "markdown",
   "id": "1c699570",
   "metadata": {},
   "source": [
    "## 2. Select the correct test according to the data type and number of samples"
   ]
  },
  {
   "cell_type": "code",
   "execution_count": 18,
   "id": "37c980b6",
   "metadata": {},
   "outputs": [
    {
     "name": "stdout",
     "output_type": "stream",
     "text": [
      "<class 'pandas.core.frame.DataFrame'>\n",
      "RangeIndex: 1338 entries, 0 to 1337\n",
      "Data columns (total 7 columns):\n",
      " #   Column    Non-Null Count  Dtype  \n",
      "---  ------    --------------  -----  \n",
      " 0   age       1338 non-null   int64  \n",
      " 1   sex       1338 non-null   object \n",
      " 2   bmi       1338 non-null   float64\n",
      " 3   children  1338 non-null   int64  \n",
      " 4   smoker    1338 non-null   object \n",
      " 5   region    1338 non-null   object \n",
      " 6   charges   1338 non-null   float64\n",
      "dtypes: float64(2), int64(2), object(3)\n",
      "memory usage: 73.3+ KB\n"
     ]
    }
   ],
   "source": [
    "df.info()"
   ]
  },
  {
   "cell_type": "code",
   "execution_count": 19,
   "id": "d7ee8da5",
   "metadata": {},
   "outputs": [
    {
     "data": {
      "text/plain": [
       "male      676\n",
       "female    662\n",
       "Name: sex, dtype: int64"
      ]
     },
     "execution_count": 19,
     "metadata": {},
     "output_type": "execute_result"
    }
   ],
   "source": [
    "df['sex'].value_counts()"
   ]
  },
  {
   "cell_type": "markdown",
   "id": "16657710",
   "metadata": {},
   "source": [
    "**Test-Type**: Chi-Square test (Categorical Hypothesis Testing)\n",
    "\n",
    "**Justification**:\n",
    "\n",
    "- The column of interest (target column) is 'smoker' (yes/no).\n",
    "- We are comparing a binary target category: 'smoker' (yes/no) vs. categorical groups: 'sex' (female/male)."
   ]
  },
  {
   "cell_type": "markdown",
   "id": "35f62b1e",
   "metadata": {},
   "source": [
    "## 3. Test the assumptions of your selected test.\n",
    "\n",
    "> Chi-Square test assumptions:\n",
    ">\n",
    "> - There are two categorical variables (ordinal or nominal)\n",
    "> - The outcomes are independent."
   ]
  },
  {
   "cell_type": "markdown",
   "id": "f29a4c32",
   "metadata": {},
   "source": [
    "### Two categorical variables\n",
    "\n",
    "1. 'smoker'\n",
    "2. 'sex'"
   ]
  },
  {
   "cell_type": "markdown",
   "id": "92c0ff39",
   "metadata": {},
   "source": [
    "### Outcomes are independent\n",
    "\n",
    "Participants are each in a group (male vs female), so outcomes are independent."
   ]
  },
  {
   "cell_type": "markdown",
   "id": "732963ca",
   "metadata": {},
   "source": [
    "## 4. Execute the selected test, or the alternative test (if you do not meet the assumptions)"
   ]
  },
  {
   "cell_type": "markdown",
   "id": "c9dd8d69",
   "metadata": {},
   "source": [
    "### Contingency Table with `pd.crosstab`"
   ]
  },
  {
   "cell_type": "code",
   "execution_count": 20,
   "id": "a3c603ce",
   "metadata": {},
   "outputs": [
    {
     "data": {
      "text/html": [
       "<div>\n",
       "<style scoped>\n",
       "    .dataframe tbody tr th:only-of-type {\n",
       "        vertical-align: middle;\n",
       "    }\n",
       "\n",
       "    .dataframe tbody tr th {\n",
       "        vertical-align: top;\n",
       "    }\n",
       "\n",
       "    .dataframe thead th {\n",
       "        text-align: right;\n",
       "    }\n",
       "</style>\n",
       "<table border=\"1\" class=\"dataframe\">\n",
       "  <thead>\n",
       "    <tr style=\"text-align: right;\">\n",
       "      <th>smoker</th>\n",
       "      <th>no</th>\n",
       "      <th>yes</th>\n",
       "    </tr>\n",
       "    <tr>\n",
       "      <th>sex</th>\n",
       "      <th></th>\n",
       "      <th></th>\n",
       "    </tr>\n",
       "  </thead>\n",
       "  <tbody>\n",
       "    <tr>\n",
       "      <th>female</th>\n",
       "      <td>547</td>\n",
       "      <td>115</td>\n",
       "    </tr>\n",
       "    <tr>\n",
       "      <th>male</th>\n",
       "      <td>517</td>\n",
       "      <td>159</td>\n",
       "    </tr>\n",
       "  </tbody>\n",
       "</table>\n",
       "</div>"
      ],
      "text/plain": [
       "smoker   no  yes\n",
       "sex             \n",
       "female  547  115\n",
       "male    517  159"
      ]
     },
     "execution_count": 20,
     "metadata": {},
     "output_type": "execute_result"
    }
   ],
   "source": [
    "# calculate the contingency table with pd.cross-tab\n",
    "table = pd.crosstab(df['sex'], df['smoker'])\n",
    "table"
   ]
  },
  {
   "cell_type": "code",
   "execution_count": 21,
   "id": "cf450f8b",
   "metadata": {},
   "outputs": [],
   "source": [
    "# Run the Test and Save the Output\n",
    "result = stats.chi2_contingency(table)\n",
    "chi2, p, deg_free, expected_vals = result #this labels the results"
   ]
  },
  {
   "cell_type": "code",
   "execution_count": 22,
   "id": "c90d283e",
   "metadata": {},
   "outputs": [
    {
     "name": "stdout",
     "output_type": "stream",
     "text": [
      "0.006548143503580696\n"
     ]
    },
    {
     "data": {
      "text/plain": [
       "True"
      ]
     },
     "execution_count": 22,
     "metadata": {},
     "output_type": "execute_result"
    }
   ],
   "source": [
    "# Display p-value and check against alpha\n",
    "print(p)\n",
    "p<.05"
   ]
  },
  {
   "cell_type": "markdown",
   "id": "491d68e7",
   "metadata": {},
   "source": [
    "## 5. Interpret your p-value and reject or fail to reject your null hypothesis \\\n",
    "\n",
    "P-value is less than 0.05, so we have a significant result.\n",
    "\n",
    "Since the p-value < .05, we can reject the null hypothesis that there is no relationship between sex and likelihood of being a smoker.\n",
    "\n",
    "We can accept the alternate hypothesis and conclude that men are more likely to smoke than women."
   ]
  },
  {
   "cell_type": "markdown",
   "id": "b2bd4514",
   "metadata": {},
   "source": [
    "## 6. Show visualization that helps display the result"
   ]
  },
  {
   "cell_type": "code",
   "execution_count": 24,
   "id": "61800c34",
   "metadata": {},
   "outputs": [
    {
     "data": {
      "text/plain": [
       "Text(0.5, 1.0, 'Smoker by sex')"
      ]
     },
     "execution_count": 24,
     "metadata": {},
     "output_type": "execute_result"
    },
    {
     "data": {
      "image/png": "[encoded data removed]",
      "text/plain": [
       "<Figure size 1200x600 with 1 Axes>"
      ]
     },
     "metadata": {},
     "output_type": "display_data"
    }
   ],
   "source": [
    "ax = sns.countplot(data=df, x='smoker', hue='sex')\n",
    "\n",
    "# Add title to the plot\n",
    "ax.set_title('Smoker by sex')"
   ]
  },
  {
   "cell_type": "markdown",
   "id": "e7f885bd",
   "metadata": {},
   "source": [
    "# 3. Do different regions have different charges, on average?\n",
    "\n"
   ]
  },
  {
   "cell_type": "markdown",
   "id": "80a2ac59",
   "metadata": {},
   "source": [
    "## 1. State your Null Hypothesis and Alternative Hypothesis\n",
    "\n",
    "**Null Hypothesis:** There is no significant difference in insurance charges between the regions.  All group's means are the same.\n",
    "\n",
    "**Alternative Hypothesis:** There is a significantly difference in insurance charges between the regions.  There is a difference in the group's means"
   ]
  },
  {
   "cell_type": "markdown",
   "id": "9120c858",
   "metadata": {},
   "source": [
    "## 2. Select hypothesis test \n",
    "\n",
    "\n",
    "- We are comparing charges (numerical) between four different regions/groups \n",
    "    \n",
    "- The appropriate test to perform would be:\n",
    "        \n",
    "      - One Way ANOVA have the following Assumptions:\n",
    "            - No significant outliers\n",
    "            - Normality\n",
    "            - Equal Variance\n",
    "\n"
   ]
  },
  {
   "cell_type": "markdown",
   "id": "827dfd56",
   "metadata": {},
   "source": [
    "### Separating Groups"
   ]
  },
  {
   "cell_type": "code",
   "execution_count": 25,
   "id": "6b9bef06",
   "metadata": {},
   "outputs": [
    {
     "data": {
      "text/plain": [
       "dict_keys(['southwest', 'southeast', 'northwest', 'northeast'])"
      ]
     },
     "execution_count": 25,
     "metadata": {},
     "output_type": "execute_result"
    }
   ],
   "source": [
    "## Create groups dictionary. \n",
    "groups = {}\n",
    "## Loop through all unique categories\n",
    "for i in df['region'].unique():\n",
    "    ## Get series for group and rename\n",
    "    data = df.loc[df['region']==i,'charges'].copy()\n",
    "    \n",
    "    # save into the dictionary\n",
    "    groups[i] = data\n",
    "groups.keys()"
   ]
  },
  {
   "cell_type": "markdown",
   "id": "ffa65e97",
   "metadata": {},
   "source": [
    "### Testing Assumptions\n",
    "\n",
    "**Assumption of Normality**"
   ]
  },
  {
   "cell_type": "code",
   "execution_count": 26,
   "id": "4332a080",
   "metadata": {},
   "outputs": [
    {
     "data": {
      "text/html": [
       "<div>\n",
       "<style scoped>\n",
       "    .dataframe tbody tr th:only-of-type {\n",
       "        vertical-align: middle;\n",
       "    }\n",
       "\n",
       "    .dataframe tbody tr th {\n",
       "        vertical-align: top;\n",
       "    }\n",
       "\n",
       "    .dataframe thead th {\n",
       "        text-align: right;\n",
       "    }\n",
       "</style>\n",
       "<table border=\"1\" class=\"dataframe\">\n",
       "  <thead>\n",
       "    <tr style=\"text-align: right;\">\n",
       "      <th></th>\n",
       "      <th>n</th>\n",
       "      <th>p</th>\n",
       "      <th>test stat</th>\n",
       "    </tr>\n",
       "  </thead>\n",
       "  <tbody>\n",
       "    <tr>\n",
       "      <th>southwest</th>\n",
       "      <td>325.0</td>\n",
       "      <td>6.125298e-23</td>\n",
       "      <td>102.294059</td>\n",
       "    </tr>\n",
       "    <tr>\n",
       "      <th>southeast</th>\n",
       "      <td>364.0</td>\n",
       "      <td>4.953297e-15</td>\n",
       "      <td>65.877446</td>\n",
       "    </tr>\n",
       "    <tr>\n",
       "      <th>northwest</th>\n",
       "      <td>325.0</td>\n",
       "      <td>5.184209e-24</td>\n",
       "      <td>107.232850</td>\n",
       "    </tr>\n",
       "    <tr>\n",
       "      <th>northeast</th>\n",
       "      <td>324.0</td>\n",
       "      <td>1.455431e-19</td>\n",
       "      <td>86.747629</td>\n",
       "    </tr>\n",
       "  </tbody>\n",
       "</table>\n",
       "</div>"
      ],
      "text/plain": [
       "               n             p   test stat\n",
       "southwest  325.0  6.125298e-23  102.294059\n",
       "southeast  364.0  4.953297e-15   65.877446\n",
       "northwest  325.0  5.184209e-24  107.232850\n",
       "northeast  324.0  1.455431e-19   86.747629"
      ]
     },
     "execution_count": 26,
     "metadata": {},
     "output_type": "execute_result"
    }
   ],
   "source": [
    "## Running normal test on each group and confirming there are >20 in each group\n",
    "norm_results = {}\n",
    "for i, data in groups.items():\n",
    "    stat, p = stats.normaltest(data)\n",
    "    ## save the p val, test statistic, and the size of the group\n",
    "    norm_results[i] = {'n': len(data),\n",
    "                             'p':p,\n",
    "                             'test stat':stat,}\n",
    "## convert to a dataframe\n",
    "norm_results_df = pd.DataFrame(norm_results).T\n",
    "norm_results_df"
   ]
  },
  {
   "cell_type": "code",
   "execution_count": 27,
   "id": "8b1d3b0f",
   "metadata": {},
   "outputs": [
    {
     "data": {
      "text/html": [
       "<div>\n",
       "<style scoped>\n",
       "    .dataframe tbody tr th:only-of-type {\n",
       "        vertical-align: middle;\n",
       "    }\n",
       "\n",
       "    .dataframe tbody tr th {\n",
       "        vertical-align: top;\n",
       "    }\n",
       "\n",
       "    .dataframe thead th {\n",
       "        text-align: right;\n",
       "    }\n",
       "</style>\n",
       "<table border=\"1\" class=\"dataframe\">\n",
       "  <thead>\n",
       "    <tr style=\"text-align: right;\">\n",
       "      <th></th>\n",
       "      <th>n</th>\n",
       "      <th>p</th>\n",
       "      <th>test stat</th>\n",
       "      <th>sig</th>\n",
       "    </tr>\n",
       "  </thead>\n",
       "  <tbody>\n",
       "    <tr>\n",
       "      <th>southwest</th>\n",
       "      <td>325.0</td>\n",
       "      <td>6.125298e-23</td>\n",
       "      <td>102.294059</td>\n",
       "      <td>True</td>\n",
       "    </tr>\n",
       "    <tr>\n",
       "      <th>southeast</th>\n",
       "      <td>364.0</td>\n",
       "      <td>4.953297e-15</td>\n",
       "      <td>65.877446</td>\n",
       "      <td>True</td>\n",
       "    </tr>\n",
       "    <tr>\n",
       "      <th>northwest</th>\n",
       "      <td>325.0</td>\n",
       "      <td>5.184209e-24</td>\n",
       "      <td>107.232850</td>\n",
       "      <td>True</td>\n",
       "    </tr>\n",
       "    <tr>\n",
       "      <th>northeast</th>\n",
       "      <td>324.0</td>\n",
       "      <td>1.455431e-19</td>\n",
       "      <td>86.747629</td>\n",
       "      <td>True</td>\n",
       "    </tr>\n",
       "  </tbody>\n",
       "</table>\n",
       "</div>"
      ],
      "text/plain": [
       "               n             p   test stat   sig\n",
       "southwest  325.0  6.125298e-23  102.294059  True\n",
       "southeast  364.0  4.953297e-15   65.877446  True\n",
       "northwest  325.0  5.184209e-24  107.232850  True\n",
       "northeast  324.0  1.455431e-19   86.747629  True"
      ]
     },
     "execution_count": 27,
     "metadata": {},
     "output_type": "execute_result"
    }
   ],
   "source": [
    "### check sig with pandas \n",
    "norm_results_df['sig'] = norm_results_df['p'] < .05 \n",
    "norm_results_df"
   ]
  },
  {
   "cell_type": "markdown",
   "id": "991df1e9",
   "metadata": {},
   "source": [
    "- Regions are all significantly different from each other. "
   ]
  },
  {
   "cell_type": "markdown",
   "id": "4a805454",
   "metadata": {},
   "source": [
    "## 3. Testing Assumption of Equal Variance"
   ]
  },
  {
   "cell_type": "code",
   "execution_count": 28,
   "id": "ececf519",
   "metadata": {},
   "outputs": [
    {
     "name": "stdout",
     "output_type": "stream",
     "text": [
      "LeveneResult(statistic=5.559966758410606, pvalue=0.0008610590250786703)\n",
      "True\n"
     ]
    }
   ],
   "source": [
    "# with the * operator \n",
    "result = stats.levene(*groups.values())\n",
    "print(result)\n",
    "print(result.pvalue<.05) "
   ]
  },
  {
   "cell_type": "markdown",
   "id": "dc35071a",
   "metadata": {},
   "source": [
    "- The null hypothesis for the test is that both groups have equal variance. \n",
    "\n",
    "- Since our p-value is less than .05 we reject that null hypothesis and conclude that our groups do NOT have equal variance."
   ]
  },
  {
   "cell_type": "markdown",
   "id": "18aa3b55",
   "metadata": {},
   "source": [
    "## 4. Statistical Testing\n",
    "\n",
    "- Does not meet the Equal Variance Assumption.\n",
    "- We need to do the Non-Parametric Test Equivalent."
   ]
  },
  {
   "cell_type": "code",
   "execution_count": 29,
   "id": "7e3c96f0",
   "metadata": {},
   "outputs": [
    {
     "name": "stdout",
     "output_type": "stream",
     "text": [
      "KruskalResult(statistic=4.734181215658743, pvalue=0.19232908072121002)\n",
      "False\n"
     ]
    }
   ],
   "source": [
    "# perform the correct hypothesis test\n",
    "# note again the use of the * operator for convenience\n",
    "result = stats.kruskal( *groups.values())\n",
    "print(result)\n",
    "print(result.pvalue<.05)"
   ]
  },
  {
   "cell_type": "markdown",
   "id": "8eb8d665",
   "metadata": {},
   "source": [
    "## 5. Interpret p-value and reject or fail to reject your null hypothesis"
   ]
  },
  {
   "cell_type": "markdown",
   "id": "4d18d6a5",
   "metadata": {},
   "source": [
    " - We fail to reject the null hypothesis.  The regions do not have significant difference in insurance charges."
   ]
  },
  {
   "cell_type": "markdown",
   "id": "88bdd0ca",
   "metadata": {},
   "source": [
    "## 6. Show visualization to display result"
   ]
  },
  {
   "cell_type": "code",
   "execution_count": 30,
   "id": "d7caf8a6",
   "metadata": {},
   "outputs": [
    {
     "data": {
      "image/png": "[encoded data removed]",
      "text/plain": [
       "<Figure size 1200x600 with 1 Axes>"
      ]
     },
     "metadata": {},
     "output_type": "display_data"
    }
   ],
   "source": [
    "## visualizing means. ci=68 makes easier to compare error bars \n",
    "ax = sns.barplot(data=df, x='region', y='charges', errorbar=('ci', 68))"
   ]
  }
 ],
 "metadata": {
  "kernelspec": {
   "display_name": "Python (dojo-env)",
   "language": "python",
   "name": "dojo-env"
  },
  "language_info": {
   "codemirror_mode": {
    "name": "ipython",
    "version": 3
   },
   "file_extension": ".py",
   "mimetype": "text/x-python",
   "name": "python",
   "nbconvert_exporter": "python",
   "pygments_lexer": "ipython3",
   "version": "3.9.15"
  },
  "toc": {
   "base_numbering": 1,
   "nav_menu": {},
   "number_sections": false,
   "sideBar": true,
   "skip_h1_title": false,
   "title_cell": "Table of Contents",
   "title_sidebar": "Contents",
   "toc_cell": false,
   "toc_position": {},
   "toc_section_display": true,
   "toc_window_display": true
  }
 },
 "nbformat": 4,
 "nbformat_minor": 5
}
